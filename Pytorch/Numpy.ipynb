{
 "cells": [
  {
   "cell_type": "markdown",
   "metadata": {},
   "source": [
    "## NumPy\n",
    "\n",
    "`NumPy (Numerical Python) is a powerful library in Python used for numerical computing. It provides a multi-dimensional array object (ndarray) and functions for mathematical operations, linear algebra, statistics, and more.`"
   ]
  },
  {
   "cell_type": "markdown",
   "metadata": {},
   "source": [
    "NumPy in Pytorch"
   ]
  },
  {
   "cell_type": "code",
   "execution_count": 8,
   "metadata": {},
   "outputs": [
    {
     "data": {
      "text/plain": [
       "(array([1., 2., 3., 4., 5., 6., 7.]),\n",
       " tensor([1., 2., 3., 4., 5., 6., 7.], dtype=torch.float64))"
      ]
     },
     "execution_count": 8,
     "metadata": {},
     "output_type": "execute_result"
    }
   ],
   "source": [
    "#Numpy Array to Tensor\n",
    "\n",
    "import torch\n",
    "import numpy as np\n",
    "\n",
    "array = np.arange(1.0, 8.0)\n",
    "tensor = torch.from_numpy(array)\n",
    "\n",
    "array, tensor"
   ]
  },
  {
   "cell_type": "code",
   "execution_count": 9,
   "metadata": {},
   "outputs": [
    {
     "data": {
      "text/plain": [
       "(dtype('float64'), torch.float64)"
      ]
     },
     "execution_count": 9,
     "metadata": {},
     "output_type": "execute_result"
    }
   ],
   "source": [
    "array.dtype, tensor.dtype"
   ]
  },
  {
   "cell_type": "markdown",
   "metadata": {},
   "source": [
    "Notice: float64 is not tensor's default data-type [it should've been float32].\n",
    "\n",
    "float64 is actually NumPy's default data type"
   ]
  },
  {
   "cell_type": "code",
   "execution_count": 13,
   "metadata": {},
   "outputs": [
    {
     "data": {
      "text/plain": [
       "(tensor([1., 2., 3., 4., 5., 6., 7.]),\n",
       " torch.float32,\n",
       " tensor([1., 2., 3., 4., 5., 6., 7.]),\n",
       " torch.float32)"
      ]
     },
     "execution_count": 13,
     "metadata": {},
     "output_type": "execute_result"
    }
   ],
   "source": [
    "#Type Casting to float32\n",
    "\n",
    "tensor = torch.tensor(array, dtype=torch.float32)\n",
    "tensor2 = torch.from_numpy(array).type(torch.float32)\n",
    "tensor, tensor.dtype, tensor2, tensor2.dtype"
   ]
  },
  {
   "cell_type": "markdown",
   "metadata": {},
   "source": [
    "When changes done to a tensor converted from an NumPy array, changes don't reflect as they share different memory location"
   ]
  },
  {
   "cell_type": "code",
   "execution_count": 14,
   "metadata": {},
   "outputs": [
    {
     "data": {
      "text/plain": [
       "(tensor([1., 2., 3., 4., 5., 6., 7.], dtype=torch.float64),\n",
       " array([2., 3., 4., 5., 6., 7., 8.]))"
      ]
     },
     "execution_count": 14,
     "metadata": {},
     "output_type": "execute_result"
    }
   ],
   "source": [
    "tensor = torch.from_numpy(array)\n",
    "array = array + 1\n",
    "tensor, array"
   ]
  },
  {
   "cell_type": "code",
   "execution_count": 16,
   "metadata": {},
   "outputs": [
    {
     "data": {
      "text/plain": [
       "(tensor([1., 1., 1., 1., 1., 1.]),\n",
       " array([1., 1., 1., 1., 1., 1.], dtype=float32),\n",
       " dtype('float32'),\n",
       " torch.float32)"
      ]
     },
     "execution_count": 16,
     "metadata": {},
     "output_type": "execute_result"
    }
   ],
   "source": [
    "#Tensor to Numpy Array\n",
    "\n",
    "newTensor = torch.ones(6)\n",
    "newArray = newTensor.numpy()\n",
    "\n",
    "newTensor, newArray, newArray.dtype, newTensor.dtype"
   ]
  },
  {
   "cell_type": "markdown",
   "metadata": {},
   "source": [
    "NumPy array inherits the default data type [float32] of tensor\n",
    "\n",
    "And just like before the converted data is allocated new memory. Any changes on one doesn't reflect on the other"
   ]
  },
  {
   "cell_type": "markdown",
   "metadata": {},
   "source": [
    "## REPRODUCIBILITY\n",
    "[Trying to take random out of random]\n",
    "\n",
    "`To reduce randomness in neural networks and PyTorch *Random Seed* is used. Random Seed gives a flavour of randomness`\n",
    "\n",
    "`A random seed is a fixed starting point for generating random numbers, ensuring reproducibility in machine learning experiments.`\n",
    "\n",
    "Why Use a Random Seed?\n",
    "- Ensures reproducibility in ML experiments\n",
    "- Helps in debugging by producing the same results\n",
    "\n",
    "`A random seed initializes a pseudorandom number generator (PRNG) with a fixed starting state. Since PRNGs generate numbers based on mathematical formulas rather than true randomness, setting the same seed ensures the same sequence of numbers is produced every time.`\n",
    "\n",
    "Note: `The type of randomness that generates truly unpredictable values is called \"True Randomness\" or \"True Random Number Generation (TRNG)\".`"
   ]
  },
  {
   "cell_type": "code",
   "execution_count": 22,
   "metadata": {},
   "outputs": [
    {
     "data": {
      "text/plain": [
       "(tensor([[0.0613, 0.6413, 0.4626, 0.1726],\n",
       "         [0.4179, 0.1342, 0.0650, 0.0922],\n",
       "         [0.4748, 0.5750, 0.7290, 0.9815]]),\n",
       " tensor([[0.0233, 0.6250, 0.1925, 0.6868],\n",
       "         [0.2909, 0.0068, 0.0689, 0.4902],\n",
       "         [0.6820, 0.1635, 0.6918, 0.3873]]),\n",
       " tensor([[False, False, False, False],\n",
       "         [False, False, False, False],\n",
       "         [False, False, False, False]]))"
      ]
     },
     "execution_count": 22,
     "metadata": {},
     "output_type": "execute_result"
    }
   ],
   "source": [
    "#True Randomness\n",
    "\n",
    "randomA = torch.rand(3, 4)\n",
    "randomB = torch.rand(3, 4)\n",
    "\n",
    "randomA, randomB, randomA == randomB"
   ]
  },
  {
   "cell_type": "code",
   "execution_count": 25,
   "metadata": {},
   "outputs": [
    {
     "data": {
      "text/plain": [
       "(tensor([[0.8398, 0.8042, 0.1213, 0.5309],\n",
       "         [0.6646, 0.4077, 0.0888, 0.2429],\n",
       "         [0.7053, 0.6216, 0.9188, 0.0185]]),\n",
       " tensor([[0.8741, 0.0560, 0.9659, 0.0073],\n",
       "         [0.3628, 0.4197, 0.6444, 0.0099],\n",
       "         [0.5925, 0.9631, 0.6958, 0.9157]]),\n",
       " tensor([[False, False, False, False],\n",
       "         [False, False, False, False],\n",
       "         [False, False, False, False]]))"
      ]
     },
     "execution_count": 25,
     "metadata": {},
     "output_type": "execute_result"
    }
   ],
   "source": [
    "#Psuedo Randomness\n",
    "\n",
    "import torch\n",
    "\n",
    "RANDOM_SEED = 69\n",
    "torch.manual_seed(RANDOM_SEED)\n",
    "\n",
    "radnomC = torch.rand(3, 4)\n",
    "randomD = torch.rand(3, 4)\n",
    "\n",
    "radnomC, randomD, radnomC == randomD"
   ]
  },
  {
   "cell_type": "code",
   "execution_count": 27,
   "metadata": {},
   "outputs": [
    {
     "data": {
      "text/plain": [
       "(tensor([[0.8398, 0.8042, 0.1213, 0.5309],\n",
       "         [0.6646, 0.4077, 0.0888, 0.2429],\n",
       "         [0.7053, 0.6216, 0.9188, 0.0185]]),\n",
       " tensor([[0.8398, 0.8042, 0.1213, 0.5309],\n",
       "         [0.6646, 0.4077, 0.0888, 0.2429],\n",
       "         [0.7053, 0.6216, 0.9188, 0.0185]]),\n",
       " tensor([[True, True, True, True],\n",
       "         [True, True, True, True],\n",
       "         [True, True, True, True]]))"
      ]
     },
     "execution_count": 27,
     "metadata": {},
     "output_type": "execute_result"
    }
   ],
   "source": [
    "#Psuedo Randomness\n",
    "\n",
    "import torch\n",
    "\n",
    "RANDOM_SEED = 69\n",
    "torch.manual_seed(RANDOM_SEED)\n",
    "\n",
    "radnomC = torch.rand(3, 4)\n",
    "\n",
    "torch.manual_seed(RANDOM_SEED)      #Random seed reset to get the same result as before\n",
    "randomD = torch.rand(3, 4)\n",
    "\n",
    "radnomC, randomD, radnomC == randomD"
   ]
  }
 ],
 "metadata": {
  "kernelspec": {
   "display_name": "Python 3",
   "language": "python",
   "name": "python3"
  },
  "language_info": {
   "codemirror_mode": {
    "name": "ipython",
    "version": 3
   },
   "file_extension": ".py",
   "mimetype": "text/x-python",
   "name": "python",
   "nbconvert_exporter": "python",
   "pygments_lexer": "ipython3",
   "version": "3.12.2"
  }
 },
 "nbformat": 4,
 "nbformat_minor": 2
}
