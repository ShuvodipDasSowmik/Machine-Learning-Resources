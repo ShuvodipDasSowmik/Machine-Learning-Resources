{
 "cells": [
  {
   "cell_type": "markdown",
   "metadata": {},
   "source": [
    "1. Prepare & Load Data\n",
    "\n",
    "2. Build Model\n",
    "\n",
    "3. Fit the model to data [training]\n",
    "\n",
    "4. Make prediction & evaluate the model [inference]\n",
    "\n",
    "5. Save and Load the Model\n",
    "\n",
    "6. Put it all together\n",
    "\n",
    "\n"
   ]
  },
  {
   "cell_type": "code",
   "execution_count": 49,
   "metadata": {},
   "outputs": [],
   "source": [
    "import torch\n",
    "from torch import nn\n",
    "\n",
    "#nn -> neural network [ torch.nn contains basic building blocks for computational graphs / neural networks]\n",
    "\n",
    "import matplotlib.pyplot as plt"
   ]
  },
  {
   "cell_type": "markdown",
   "metadata": {},
   "source": [
    "## 1. Prepareing and Loading Data\n",
    "\n",
    "`Data can be: `\n",
    "\n",
    "1. Excel Spreadsheet\n",
    "\n",
    "2. Images of any format\n",
    "\n",
    "3. Videos\n",
    "\n",
    "4. Audio\n",
    "\n",
    "5. DNA\n",
    "\n",
    "6. Text"
   ]
  },
  {
   "cell_type": "code",
   "execution_count": 50,
   "metadata": {},
   "outputs": [
    {
     "name": "stdout",
     "output_type": "stream",
     "text": [
      "torch.Size([50, 1])\n"
     ]
    }
   ],
   "source": [
    "#Create weight and bias\n",
    "\n",
    "weight = 0.7\n",
    "bias = 0.3\n",
    "\n",
    "#Create Data\n",
    "start = 0\n",
    "end = 1\n",
    "step = 0.02\n",
    "\n",
    "X = torch.arange(start, end, step).unsqueeze(1)\n",
    "\n",
    "#Capital letter is used denote matrix or tensors and small letter is used to denote scalar values or vectors\n",
    "\n",
    "print(X.shape)\n",
    "\n",
    "y = weight * X  + bias\n",
    "\n"
   ]
  },
  {
   "cell_type": "markdown",
   "metadata": {},
   "source": [
    "### Generalization\n",
    "\n",
    "`The ability of a ML Model to perform well on data it hasn't seen before`"
   ]
  },
  {
   "cell_type": "markdown",
   "metadata": {},
   "source": [
    "### Spliting Dataset\n",
    "\n",
    "`When training machine learning models, we typically split the dataset into:`\n",
    "\n",
    "Training set → Used to train the model. (e.g., 70-80%) [used Always]\n",
    "\n",
    "Validation set → Used to tune hyperparameters. (e.g., 10-15%) [used Often but not always]\n",
    "\n",
    "Test set → Used to evaluate model performance. (e.g., 10-15%) [used always]"
   ]
  },
  {
   "cell_type": "markdown",
   "metadata": {},
   "source": [
    "#### plt.figure( )\n",
    "\n",
    "`The plt.figure() function in Matplotlib is used to create a new figure (a blank canvas) for plotting. It allows you to control the size, resolution, and background color of the figure`\n",
    "\n",
    "#### plt.scatter( )\n",
    "\n",
    "`The plt.scatter() function in Matplotlib is used to create a scatter plot. Scatter plots display points (markers) on a 2D plane, where each point represents a pair of values from two datasets. It is commonly used to visualize relationships between variables.`\n",
    "\n",
    "#### plt.legend( )\n",
    "\n",
    "Legend is a small box or area that explains the symbols, colors, or line styles used in the plot\n",
    "\n",
    "`The plt.legend() function in Matplotlib is used to add a legend to a plot. A legend helps label different data series or plot elements in your figure, making it easier to understand what each line, scatter point, or other plot element represents.`"
   ]
  },
  {
   "cell_type": "code",
   "execution_count": 51,
   "metadata": {},
   "outputs": [],
   "source": [
    "#Create Training Set & Test Set\n",
    "\n",
    "trainingSplit = int(0.8 * len(X))\n",
    "\n",
    "trainX, trainY = X[:trainingSplit], y[:trainingSplit] # Select first 80% of the data\n",
    "\n",
    "testX, testY = X[trainingSplit:], y[trainingSplit:]   # Select last 20% of the data\n",
    "\n",
    "def plotPredictions (trainingData = trainX,\n",
    "                    trainingLabels = trainY,\n",
    "                    testData = testX,\n",
    "                    testLabels = testY,\n",
    "                    predictions = None):\n",
    "\n",
    "    plt.figure(figsize=(10, 7))     # Set the size of the plot in inches\n",
    "    plt.title(\"Model Predictions\")\n",
    "    plt.xlabel(\"X\")\n",
    "    plt.ylabel(\"Y\")\n",
    "\n",
    "\n",
    "    #Plot Training Data in Blue\n",
    "    plt.scatter(trainingData, trainingLabels, c = 'b', label = 'Training Data')\n",
    "    \n",
    "    #Plot Test Data in Green\n",
    "    plt.scatter(testData, testLabels, c = 'g', label = 'Test Data')\n",
    "\n",
    "    if predictions is not None:\n",
    "        plt.scatter(testData, predictions, c = 'r', label = 'Predictions')\n",
    "\n",
    "    #Show Legend\n",
    "    plt.legend()\n",
    "\n",
    "    plt.show()"
   ]
  },
  {
   "cell_type": "code",
   "execution_count": 52,
   "metadata": {},
   "outputs": [
    {
     "data": {
      "image/png": "[encoded data removed]",
      "text/plain": [
       "<Figure size 1000x700 with 1 Axes>"
      ]
     },
     "metadata": {},
     "output_type": "display_data"
    }
   ],
   "source": [
    "plotPredictions()"
   ]
  }
 ],
 "metadata": {
  "kernelspec": {
   "display_name": "Python 3",
   "language": "python",
   "name": "python3"
  },
  "language_info": {
   "codemirror_mode": {
    "name": "ipython",
    "version": 3
   },
   "file_extension": ".py",
   "mimetype": "text/x-python",
   "name": "python",
   "nbconvert_exporter": "python",
   "pygments_lexer": "ipython3",
   "version": "3.12.2"
  }
 },
 "nbformat": 4,
 "nbformat_minor": 2
}
